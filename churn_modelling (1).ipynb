{
  "nbformat": 4,
  "nbformat_minor": 0,
  "metadata": {
    "colab": {
      "name": "churn_modelling.ipynb",
      "provenance": []
    },
    "kernelspec": {
      "name": "python3",
      "display_name": "Python 3"
    }
  },
  "cells": [
    {
      "cell_type": "code",
      "metadata": {
        "id": "YmF5hYo3Kz-r",
        "colab_type": "code",
        "colab": {}
      },
      "source": [
        ""
      ],
      "execution_count": null,
      "outputs": []
    },
    {
      "cell_type": "markdown",
      "metadata": {
        "id": "bMuHDYAvLQj2",
        "colab_type": "text"
      },
      "source": [
        "**Importing** the **libraries**"
      ]
    },
    {
      "cell_type": "code",
      "metadata": {
        "id": "cU3KlszULUBP",
        "colab_type": "code",
        "colab": {}
      },
      "source": [
        "import pandas as pd\n",
        "import numpy as np\n",
        "import tensorflow as tf"
      ],
      "execution_count": null,
      "outputs": []
    },
    {
      "cell_type": "code",
      "metadata": {
        "id": "VMRLf_y8Lth2",
        "colab_type": "code",
        "colab": {
          "base_uri": "https://localhost:8080/",
          "height": 35
        },
        "outputId": "b82941cc-5d4c-4479-e0af-e50dbc6c0e8f"
      },
      "source": [
        "tf.__version__"
      ],
      "execution_count": null,
      "outputs": [
        {
          "output_type": "execute_result",
          "data": {
            "application/vnd.google.colaboratory.intrinsic+json": {
              "type": "string"
            },
            "text/plain": [
              "'2.3.0'"
            ]
          },
          "metadata": {
            "tags": []
          },
          "execution_count": 2
        }
      ]
    },
    {
      "cell_type": "markdown",
      "metadata": {
        "id": "et5J5UaSMLXo",
        "colab_type": "text"
      },
      "source": [
        "**Data** **Preprocessing**"
      ]
    },
    {
      "cell_type": "code",
      "metadata": {
        "id": "Dk2QgQZzMR9N",
        "colab_type": "code",
        "colab": {
          "base_uri": "https://localhost:8080/",
          "height": 204
        },
        "outputId": "8275973d-de2a-4ccb-b793-86dcd46cdcfa"
      },
      "source": [
        "churn_modeling=pd.read_csv('drive/My Drive/Churn_Modelling.csv')\n",
        "churn_modeling.head()"
      ],
      "execution_count": null,
      "outputs": [
        {
          "output_type": "execute_result",
          "data": {
            "text/html": [
              "<div>\n",
              "<style scoped>\n",
              "    .dataframe tbody tr th:only-of-type {\n",
              "        vertical-align: middle;\n",
              "    }\n",
              "\n",
              "    .dataframe tbody tr th {\n",
              "        vertical-align: top;\n",
              "    }\n",
              "\n",
              "    .dataframe thead th {\n",
              "        text-align: right;\n",
              "    }\n",
              "</style>\n",
              "<table border=\"1\" class=\"dataframe\">\n",
              "  <thead>\n",
              "    <tr style=\"text-align: right;\">\n",
              "      <th></th>\n",
              "      <th>RowNumber</th>\n",
              "      <th>CustomerId</th>\n",
              "      <th>Surname</th>\n",
              "      <th>CreditScore</th>\n",
              "      <th>Geography</th>\n",
              "      <th>Gender</th>\n",
              "      <th>Age</th>\n",
              "      <th>Tenure</th>\n",
              "      <th>Balance</th>\n",
              "      <th>NumOfProducts</th>\n",
              "      <th>HasCrCard</th>\n",
              "      <th>IsActiveMember</th>\n",
              "      <th>EstimatedSalary</th>\n",
              "      <th>Exited</th>\n",
              "    </tr>\n",
              "  </thead>\n",
              "  <tbody>\n",
              "    <tr>\n",
              "      <th>0</th>\n",
              "      <td>1</td>\n",
              "      <td>15634602</td>\n",
              "      <td>Hargrave</td>\n",
              "      <td>619</td>\n",
              "      <td>France</td>\n",
              "      <td>Female</td>\n",
              "      <td>42</td>\n",
              "      <td>2</td>\n",
              "      <td>0.00</td>\n",
              "      <td>1</td>\n",
              "      <td>1</td>\n",
              "      <td>1</td>\n",
              "      <td>101348.88</td>\n",
              "      <td>1</td>\n",
              "    </tr>\n",
              "    <tr>\n",
              "      <th>1</th>\n",
              "      <td>2</td>\n",
              "      <td>15647311</td>\n",
              "      <td>Hill</td>\n",
              "      <td>608</td>\n",
              "      <td>Spain</td>\n",
              "      <td>Female</td>\n",
              "      <td>41</td>\n",
              "      <td>1</td>\n",
              "      <td>83807.86</td>\n",
              "      <td>1</td>\n",
              "      <td>0</td>\n",
              "      <td>1</td>\n",
              "      <td>112542.58</td>\n",
              "      <td>0</td>\n",
              "    </tr>\n",
              "    <tr>\n",
              "      <th>2</th>\n",
              "      <td>3</td>\n",
              "      <td>15619304</td>\n",
              "      <td>Onio</td>\n",
              "      <td>502</td>\n",
              "      <td>France</td>\n",
              "      <td>Female</td>\n",
              "      <td>42</td>\n",
              "      <td>8</td>\n",
              "      <td>159660.80</td>\n",
              "      <td>3</td>\n",
              "      <td>1</td>\n",
              "      <td>0</td>\n",
              "      <td>113931.57</td>\n",
              "      <td>1</td>\n",
              "    </tr>\n",
              "    <tr>\n",
              "      <th>3</th>\n",
              "      <td>4</td>\n",
              "      <td>15701354</td>\n",
              "      <td>Boni</td>\n",
              "      <td>699</td>\n",
              "      <td>France</td>\n",
              "      <td>Female</td>\n",
              "      <td>39</td>\n",
              "      <td>1</td>\n",
              "      <td>0.00</td>\n",
              "      <td>2</td>\n",
              "      <td>0</td>\n",
              "      <td>0</td>\n",
              "      <td>93826.63</td>\n",
              "      <td>0</td>\n",
              "    </tr>\n",
              "    <tr>\n",
              "      <th>4</th>\n",
              "      <td>5</td>\n",
              "      <td>15737888</td>\n",
              "      <td>Mitchell</td>\n",
              "      <td>850</td>\n",
              "      <td>Spain</td>\n",
              "      <td>Female</td>\n",
              "      <td>43</td>\n",
              "      <td>2</td>\n",
              "      <td>125510.82</td>\n",
              "      <td>1</td>\n",
              "      <td>1</td>\n",
              "      <td>1</td>\n",
              "      <td>79084.10</td>\n",
              "      <td>0</td>\n",
              "    </tr>\n",
              "  </tbody>\n",
              "</table>\n",
              "</div>"
            ],
            "text/plain": [
              "   RowNumber  CustomerId   Surname  ...  IsActiveMember EstimatedSalary Exited\n",
              "0          1    15634602  Hargrave  ...               1       101348.88      1\n",
              "1          2    15647311      Hill  ...               1       112542.58      0\n",
              "2          3    15619304      Onio  ...               0       113931.57      1\n",
              "3          4    15701354      Boni  ...               0        93826.63      0\n",
              "4          5    15737888  Mitchell  ...               1        79084.10      0\n",
              "\n",
              "[5 rows x 14 columns]"
            ]
          },
          "metadata": {
            "tags": []
          },
          "execution_count": 3
        }
      ]
    },
    {
      "cell_type": "code",
      "metadata": {
        "id": "79Xm3P5hOF2X",
        "colab_type": "code",
        "colab": {
          "base_uri": "https://localhost:8080/",
          "height": 204
        },
        "outputId": "b12d9f84-c6da-44b3-c79b-e93feed24665"
      },
      "source": [
        "c=churn_modeling.copy()\n",
        "c.head()"
      ],
      "execution_count": null,
      "outputs": [
        {
          "output_type": "execute_result",
          "data": {
            "text/html": [
              "<div>\n",
              "<style scoped>\n",
              "    .dataframe tbody tr th:only-of-type {\n",
              "        vertical-align: middle;\n",
              "    }\n",
              "\n",
              "    .dataframe tbody tr th {\n",
              "        vertical-align: top;\n",
              "    }\n",
              "\n",
              "    .dataframe thead th {\n",
              "        text-align: right;\n",
              "    }\n",
              "</style>\n",
              "<table border=\"1\" class=\"dataframe\">\n",
              "  <thead>\n",
              "    <tr style=\"text-align: right;\">\n",
              "      <th></th>\n",
              "      <th>RowNumber</th>\n",
              "      <th>CustomerId</th>\n",
              "      <th>Surname</th>\n",
              "      <th>CreditScore</th>\n",
              "      <th>Geography</th>\n",
              "      <th>Gender</th>\n",
              "      <th>Age</th>\n",
              "      <th>Tenure</th>\n",
              "      <th>Balance</th>\n",
              "      <th>NumOfProducts</th>\n",
              "      <th>HasCrCard</th>\n",
              "      <th>IsActiveMember</th>\n",
              "      <th>EstimatedSalary</th>\n",
              "      <th>Exited</th>\n",
              "    </tr>\n",
              "  </thead>\n",
              "  <tbody>\n",
              "    <tr>\n",
              "      <th>0</th>\n",
              "      <td>1</td>\n",
              "      <td>15634602</td>\n",
              "      <td>Hargrave</td>\n",
              "      <td>619</td>\n",
              "      <td>France</td>\n",
              "      <td>Female</td>\n",
              "      <td>42</td>\n",
              "      <td>2</td>\n",
              "      <td>0.00</td>\n",
              "      <td>1</td>\n",
              "      <td>1</td>\n",
              "      <td>1</td>\n",
              "      <td>101348.88</td>\n",
              "      <td>1</td>\n",
              "    </tr>\n",
              "    <tr>\n",
              "      <th>1</th>\n",
              "      <td>2</td>\n",
              "      <td>15647311</td>\n",
              "      <td>Hill</td>\n",
              "      <td>608</td>\n",
              "      <td>Spain</td>\n",
              "      <td>Female</td>\n",
              "      <td>41</td>\n",
              "      <td>1</td>\n",
              "      <td>83807.86</td>\n",
              "      <td>1</td>\n",
              "      <td>0</td>\n",
              "      <td>1</td>\n",
              "      <td>112542.58</td>\n",
              "      <td>0</td>\n",
              "    </tr>\n",
              "    <tr>\n",
              "      <th>2</th>\n",
              "      <td>3</td>\n",
              "      <td>15619304</td>\n",
              "      <td>Onio</td>\n",
              "      <td>502</td>\n",
              "      <td>France</td>\n",
              "      <td>Female</td>\n",
              "      <td>42</td>\n",
              "      <td>8</td>\n",
              "      <td>159660.80</td>\n",
              "      <td>3</td>\n",
              "      <td>1</td>\n",
              "      <td>0</td>\n",
              "      <td>113931.57</td>\n",
              "      <td>1</td>\n",
              "    </tr>\n",
              "    <tr>\n",
              "      <th>3</th>\n",
              "      <td>4</td>\n",
              "      <td>15701354</td>\n",
              "      <td>Boni</td>\n",
              "      <td>699</td>\n",
              "      <td>France</td>\n",
              "      <td>Female</td>\n",
              "      <td>39</td>\n",
              "      <td>1</td>\n",
              "      <td>0.00</td>\n",
              "      <td>2</td>\n",
              "      <td>0</td>\n",
              "      <td>0</td>\n",
              "      <td>93826.63</td>\n",
              "      <td>0</td>\n",
              "    </tr>\n",
              "    <tr>\n",
              "      <th>4</th>\n",
              "      <td>5</td>\n",
              "      <td>15737888</td>\n",
              "      <td>Mitchell</td>\n",
              "      <td>850</td>\n",
              "      <td>Spain</td>\n",
              "      <td>Female</td>\n",
              "      <td>43</td>\n",
              "      <td>2</td>\n",
              "      <td>125510.82</td>\n",
              "      <td>1</td>\n",
              "      <td>1</td>\n",
              "      <td>1</td>\n",
              "      <td>79084.10</td>\n",
              "      <td>0</td>\n",
              "    </tr>\n",
              "  </tbody>\n",
              "</table>\n",
              "</div>"
            ],
            "text/plain": [
              "   RowNumber  CustomerId   Surname  ...  IsActiveMember EstimatedSalary Exited\n",
              "0          1    15634602  Hargrave  ...               1       101348.88      1\n",
              "1          2    15647311      Hill  ...               1       112542.58      0\n",
              "2          3    15619304      Onio  ...               0       113931.57      1\n",
              "3          4    15701354      Boni  ...               0        93826.63      0\n",
              "4          5    15737888  Mitchell  ...               1        79084.10      0\n",
              "\n",
              "[5 rows x 14 columns]"
            ]
          },
          "metadata": {
            "tags": []
          },
          "execution_count": 4
        }
      ]
    },
    {
      "cell_type": "code",
      "metadata": {
        "id": "pWvhj4RxOFyZ",
        "colab_type": "code",
        "colab": {
          "base_uri": "https://localhost:8080/",
          "height": 204
        },
        "outputId": "80a9f0b6-4282-4a04-fe20-4b82c98d2504"
      },
      "source": [
        "churn_modeling.drop(['RowNumber','CustomerId','Surname'],axis=1,inplace=True)\n",
        "churn_modeling.head()"
      ],
      "execution_count": null,
      "outputs": [
        {
          "output_type": "execute_result",
          "data": {
            "text/html": [
              "<div>\n",
              "<style scoped>\n",
              "    .dataframe tbody tr th:only-of-type {\n",
              "        vertical-align: middle;\n",
              "    }\n",
              "\n",
              "    .dataframe tbody tr th {\n",
              "        vertical-align: top;\n",
              "    }\n",
              "\n",
              "    .dataframe thead th {\n",
              "        text-align: right;\n",
              "    }\n",
              "</style>\n",
              "<table border=\"1\" class=\"dataframe\">\n",
              "  <thead>\n",
              "    <tr style=\"text-align: right;\">\n",
              "      <th></th>\n",
              "      <th>CreditScore</th>\n",
              "      <th>Geography</th>\n",
              "      <th>Gender</th>\n",
              "      <th>Age</th>\n",
              "      <th>Tenure</th>\n",
              "      <th>Balance</th>\n",
              "      <th>NumOfProducts</th>\n",
              "      <th>HasCrCard</th>\n",
              "      <th>IsActiveMember</th>\n",
              "      <th>EstimatedSalary</th>\n",
              "      <th>Exited</th>\n",
              "    </tr>\n",
              "  </thead>\n",
              "  <tbody>\n",
              "    <tr>\n",
              "      <th>0</th>\n",
              "      <td>619</td>\n",
              "      <td>France</td>\n",
              "      <td>Female</td>\n",
              "      <td>42</td>\n",
              "      <td>2</td>\n",
              "      <td>0.00</td>\n",
              "      <td>1</td>\n",
              "      <td>1</td>\n",
              "      <td>1</td>\n",
              "      <td>101348.88</td>\n",
              "      <td>1</td>\n",
              "    </tr>\n",
              "    <tr>\n",
              "      <th>1</th>\n",
              "      <td>608</td>\n",
              "      <td>Spain</td>\n",
              "      <td>Female</td>\n",
              "      <td>41</td>\n",
              "      <td>1</td>\n",
              "      <td>83807.86</td>\n",
              "      <td>1</td>\n",
              "      <td>0</td>\n",
              "      <td>1</td>\n",
              "      <td>112542.58</td>\n",
              "      <td>0</td>\n",
              "    </tr>\n",
              "    <tr>\n",
              "      <th>2</th>\n",
              "      <td>502</td>\n",
              "      <td>France</td>\n",
              "      <td>Female</td>\n",
              "      <td>42</td>\n",
              "      <td>8</td>\n",
              "      <td>159660.80</td>\n",
              "      <td>3</td>\n",
              "      <td>1</td>\n",
              "      <td>0</td>\n",
              "      <td>113931.57</td>\n",
              "      <td>1</td>\n",
              "    </tr>\n",
              "    <tr>\n",
              "      <th>3</th>\n",
              "      <td>699</td>\n",
              "      <td>France</td>\n",
              "      <td>Female</td>\n",
              "      <td>39</td>\n",
              "      <td>1</td>\n",
              "      <td>0.00</td>\n",
              "      <td>2</td>\n",
              "      <td>0</td>\n",
              "      <td>0</td>\n",
              "      <td>93826.63</td>\n",
              "      <td>0</td>\n",
              "    </tr>\n",
              "    <tr>\n",
              "      <th>4</th>\n",
              "      <td>850</td>\n",
              "      <td>Spain</td>\n",
              "      <td>Female</td>\n",
              "      <td>43</td>\n",
              "      <td>2</td>\n",
              "      <td>125510.82</td>\n",
              "      <td>1</td>\n",
              "      <td>1</td>\n",
              "      <td>1</td>\n",
              "      <td>79084.10</td>\n",
              "      <td>0</td>\n",
              "    </tr>\n",
              "  </tbody>\n",
              "</table>\n",
              "</div>"
            ],
            "text/plain": [
              "   CreditScore Geography  Gender  ...  IsActiveMember  EstimatedSalary  Exited\n",
              "0          619    France  Female  ...               1        101348.88       1\n",
              "1          608     Spain  Female  ...               1        112542.58       0\n",
              "2          502    France  Female  ...               0        113931.57       1\n",
              "3          699    France  Female  ...               0         93826.63       0\n",
              "4          850     Spain  Female  ...               1         79084.10       0\n",
              "\n",
              "[5 rows x 11 columns]"
            ]
          },
          "metadata": {
            "tags": []
          },
          "execution_count": 5
        }
      ]
    },
    {
      "cell_type": "code",
      "metadata": {
        "id": "GoWK-kD9Qxpx",
        "colab_type": "code",
        "colab": {
          "base_uri": "https://localhost:8080/",
          "height": 221
        },
        "outputId": "412fc518-36a6-48ed-aaa1-b5d46d0be7a8"
      },
      "source": [
        "churn_modeling.isna().sum()"
      ],
      "execution_count": null,
      "outputs": [
        {
          "output_type": "execute_result",
          "data": {
            "text/plain": [
              "CreditScore        0\n",
              "Geography          0\n",
              "Gender             0\n",
              "Age                0\n",
              "Tenure             0\n",
              "Balance            0\n",
              "NumOfProducts      0\n",
              "HasCrCard          0\n",
              "IsActiveMember     0\n",
              "EstimatedSalary    0\n",
              "Exited             0\n",
              "dtype: int64"
            ]
          },
          "metadata": {
            "tags": []
          },
          "execution_count": 6
        }
      ]
    },
    {
      "cell_type": "code",
      "metadata": {
        "id": "5To2cLNDO6xJ",
        "colab_type": "code",
        "colab": {}
      },
      "source": [
        "X=churn_modeling.drop('Exited',axis=1).values"
      ],
      "execution_count": null,
      "outputs": []
    },
    {
      "cell_type": "code",
      "metadata": {
        "id": "U4Qxi1KSPjme",
        "colab_type": "code",
        "colab": {}
      },
      "source": [
        "y=churn_modeling['Exited'].values"
      ],
      "execution_count": null,
      "outputs": []
    },
    {
      "cell_type": "code",
      "metadata": {
        "id": "37UnI_LQP3nH",
        "colab_type": "code",
        "colab": {
          "base_uri": "https://localhost:8080/",
          "height": 136
        },
        "outputId": "ed3e42fc-af5d-45d9-feab-f26615627ffb"
      },
      "source": [
        "print(X)"
      ],
      "execution_count": null,
      "outputs": [
        {
          "output_type": "stream",
          "text": [
            "[[619 'France' 'Female' ... 1 1 101348.88]\n",
            " [608 'Spain' 'Female' ... 0 1 112542.58]\n",
            " [502 'France' 'Female' ... 1 0 113931.57]\n",
            " ...\n",
            " [709 'France' 'Female' ... 0 1 42085.58]\n",
            " [772 'Germany' 'Male' ... 1 0 92888.52]\n",
            " [792 'France' 'Female' ... 1 0 38190.78]]\n"
          ],
          "name": "stdout"
        }
      ]
    },
    {
      "cell_type": "code",
      "metadata": {
        "id": "Qzvnd-JuQEdW",
        "colab_type": "code",
        "colab": {
          "base_uri": "https://localhost:8080/",
          "height": 34
        },
        "outputId": "74743322-2f28-467d-85aa-e6120381255e"
      },
      "source": [
        "print(y)"
      ],
      "execution_count": null,
      "outputs": [
        {
          "output_type": "stream",
          "text": [
            "[1 0 1 ... 1 1 0]\n"
          ],
          "name": "stdout"
        }
      ]
    },
    {
      "cell_type": "code",
      "metadata": {
        "id": "eeciIxBIQY6_",
        "colab_type": "code",
        "colab": {}
      },
      "source": [
        "from sklearn.preprocessing import LabelEncoder\n",
        "lb=LabelEncoder()\n",
        "X[:,2]=lb.fit_transform(X[:,2])"
      ],
      "execution_count": null,
      "outputs": []
    },
    {
      "cell_type": "code",
      "metadata": {
        "id": "KmEEYWhCS3Ow",
        "colab_type": "code",
        "colab": {
          "base_uri": "https://localhost:8080/",
          "height": 153
        },
        "outputId": "f6ad763c-4a99-477a-acfc-f63e7ffbc522"
      },
      "source": [
        "print(X)\n",
        "print(X.shape)"
      ],
      "execution_count": null,
      "outputs": [
        {
          "output_type": "stream",
          "text": [
            "[[619 'France' 0 ... 1 1 101348.88]\n",
            " [608 'Spain' 0 ... 0 1 112542.58]\n",
            " [502 'France' 0 ... 1 0 113931.57]\n",
            " ...\n",
            " [709 'France' 0 ... 0 1 42085.58]\n",
            " [772 'Germany' 1 ... 1 0 92888.52]\n",
            " [792 'France' 0 ... 1 0 38190.78]]\n",
            "(10000, 10)\n"
          ],
          "name": "stdout"
        }
      ]
    },
    {
      "cell_type": "code",
      "metadata": {
        "id": "AmVRsPLBS4za",
        "colab_type": "code",
        "colab": {}
      },
      "source": [
        "from sklearn.compose import ColumnTransformer\n",
        "from sklearn.preprocessing import OneHotEncoder\n",
        "ct=ColumnTransformer(transformers=[('encoder',OneHotEncoder(),[1])],remainder='passthrough')\n",
        "X=np.array(ct.fit_transform(X))"
      ],
      "execution_count": null,
      "outputs": []
    },
    {
      "cell_type": "code",
      "metadata": {
        "id": "pgrZrSWyT29p",
        "colab_type": "code",
        "colab": {
          "base_uri": "https://localhost:8080/",
          "height": 153
        },
        "outputId": "e5a5eecc-826c-4e74-828a-bd8b4f93e41a"
      },
      "source": [
        "print(X)\n",
        "print(X.shape)"
      ],
      "execution_count": null,
      "outputs": [
        {
          "output_type": "stream",
          "text": [
            "[[1.0 0.0 0.0 ... 1 1 101348.88]\n",
            " [0.0 0.0 1.0 ... 0 1 112542.58]\n",
            " [1.0 0.0 0.0 ... 1 0 113931.57]\n",
            " ...\n",
            " [1.0 0.0 0.0 ... 0 1 42085.58]\n",
            " [0.0 1.0 0.0 ... 1 0 92888.52]\n",
            " [1.0 0.0 0.0 ... 1 0 38190.78]]\n",
            "(10000, 12)\n"
          ],
          "name": "stdout"
        }
      ]
    },
    {
      "cell_type": "code",
      "metadata": {
        "id": "gPfZBXDTT5Hh",
        "colab_type": "code",
        "colab": {}
      },
      "source": [
        "from sklearn.model_selection import train_test_split\n",
        "X_train,X_test,y_train,y_test=train_test_split(X,y,test_size=0.2,random_state=0)"
      ],
      "execution_count": null,
      "outputs": []
    },
    {
      "cell_type": "markdown",
      "metadata": {
        "id": "FfaIy826VTN1",
        "colab_type": "text"
      },
      "source": [
        "**feature Scaling  :**  Feature Scaling is compulsory for deep learning"
      ]
    },
    {
      "cell_type": "code",
      "metadata": {
        "id": "gEzI6YK9ViMC",
        "colab_type": "code",
        "colab": {}
      },
      "source": [
        "from sklearn.preprocessing import StandardScaler\n",
        "sc=StandardScaler()\n",
        "X_train=sc.fit_transform(X_train)\n",
        "X_test=sc.fit_transform(X_test)"
      ],
      "execution_count": null,
      "outputs": []
    },
    {
      "cell_type": "code",
      "metadata": {
        "id": "PwrC318mWJXx",
        "colab_type": "code",
        "colab": {
          "base_uri": "https://localhost:8080/",
          "height": 34
        },
        "outputId": "9cd0142f-04fa-440c-ad3c-d5734cbc335f"
      },
      "source": [
        "print(X_train.shape)"
      ],
      "execution_count": null,
      "outputs": [
        {
          "output_type": "stream",
          "text": [
            "(8000, 12)\n"
          ],
          "name": "stdout"
        }
      ]
    },
    {
      "cell_type": "markdown",
      "metadata": {
        "id": "SI2Z-AwroPV-",
        "colab_type": "text"
      },
      "source": [
        "**Creating ANN**"
      ]
    },
    {
      "cell_type": "code",
      "metadata": {
        "id": "8L5x2qcKWqLN",
        "colab_type": "code",
        "colab": {}
      },
      "source": [
        "ann=tf.keras.models.Sequential()"
      ],
      "execution_count": null,
      "outputs": []
    },
    {
      "cell_type": "code",
      "metadata": {
        "id": "TEEDqHgDJekl",
        "colab_type": "code",
        "colab": {}
      },
      "source": [
        "ann.add(tf.keras.layers.Dense(units=8,activation='relu'))"
      ],
      "execution_count": null,
      "outputs": []
    },
    {
      "cell_type": "code",
      "metadata": {
        "id": "zqXODt29K9ZN",
        "colab_type": "code",
        "colab": {}
      },
      "source": [
        "ann.add(tf.keras.layers.Dense(units=6,activation='relu'))"
      ],
      "execution_count": null,
      "outputs": []
    },
    {
      "cell_type": "code",
      "metadata": {
        "id": "5sCC3t8PLE1-",
        "colab_type": "code",
        "colab": {}
      },
      "source": [
        "ann.add(tf.keras.layers.Dense(units=1,activation='sigmoid'))"
      ],
      "execution_count": null,
      "outputs": []
    },
    {
      "cell_type": "markdown",
      "metadata": {
        "id": "Wrt_IE6yoX3e",
        "colab_type": "text"
      },
      "source": [
        "**Compiling the model**"
      ]
    },
    {
      "cell_type": "code",
      "metadata": {
        "id": "MPuJRVI0VZVV",
        "colab_type": "code",
        "colab": {}
      },
      "source": [
        "ann.compile(optimizer='adam',loss='binary_crossentropy',metrics=['accuracy'])"
      ],
      "execution_count": null,
      "outputs": []
    },
    {
      "cell_type": "markdown",
      "metadata": {
        "id": "dUTUA1JSojfh",
        "colab_type": "text"
      },
      "source": [
        "**Fitting model on training dataset**"
      ]
    },
    {
      "cell_type": "code",
      "metadata": {
        "id": "DwMSL232W8dH",
        "colab_type": "code",
        "colab": {
          "base_uri": "https://localhost:8080/",
          "height": 1000
        },
        "outputId": "2fcd3a93-4447-45c7-98a7-48745af900fd"
      },
      "source": [
        "ann.fit(X_train,y_train,batch_size=35,epochs=100)"
      ],
      "execution_count": null,
      "outputs": [
        {
          "output_type": "stream",
          "text": [
            "Epoch 1/100\n",
            "229/229 [==============================] - 0s 2ms/step - loss: 0.4889 - accuracy: 0.7960\n",
            "Epoch 2/100\n",
            "229/229 [==============================] - 0s 2ms/step - loss: 0.4482 - accuracy: 0.7960\n",
            "Epoch 3/100\n",
            "229/229 [==============================] - 0s 2ms/step - loss: 0.4372 - accuracy: 0.7960\n",
            "Epoch 4/100\n",
            "229/229 [==============================] - 0s 2ms/step - loss: 0.4315 - accuracy: 0.7960\n",
            "Epoch 5/100\n",
            "229/229 [==============================] - 0s 2ms/step - loss: 0.4278 - accuracy: 0.7986\n",
            "Epoch 6/100\n",
            "229/229 [==============================] - 0s 1ms/step - loss: 0.4242 - accuracy: 0.8114\n",
            "Epoch 7/100\n",
            "229/229 [==============================] - 0s 2ms/step - loss: 0.4200 - accuracy: 0.8202\n",
            "Epoch 8/100\n",
            "229/229 [==============================] - 0s 2ms/step - loss: 0.4151 - accuracy: 0.8260\n",
            "Epoch 9/100\n",
            "229/229 [==============================] - 0s 1ms/step - loss: 0.4101 - accuracy: 0.8304\n",
            "Epoch 10/100\n",
            "229/229 [==============================] - 0s 1ms/step - loss: 0.4045 - accuracy: 0.8322\n",
            "Epoch 11/100\n",
            "229/229 [==============================] - 0s 2ms/step - loss: 0.3997 - accuracy: 0.8338\n",
            "Epoch 12/100\n",
            "229/229 [==============================] - 0s 2ms/step - loss: 0.3947 - accuracy: 0.8353\n",
            "Epoch 13/100\n",
            "229/229 [==============================] - 0s 1ms/step - loss: 0.3906 - accuracy: 0.8375\n",
            "Epoch 14/100\n",
            "229/229 [==============================] - 0s 1ms/step - loss: 0.3866 - accuracy: 0.8388\n",
            "Epoch 15/100\n",
            "229/229 [==============================] - 0s 1ms/step - loss: 0.3820 - accuracy: 0.8411\n",
            "Epoch 16/100\n",
            "229/229 [==============================] - 0s 1ms/step - loss: 0.3775 - accuracy: 0.8444\n",
            "Epoch 17/100\n",
            "229/229 [==============================] - 0s 2ms/step - loss: 0.3721 - accuracy: 0.8470\n",
            "Epoch 18/100\n",
            "229/229 [==============================] - 0s 2ms/step - loss: 0.3662 - accuracy: 0.8503\n",
            "Epoch 19/100\n",
            "229/229 [==============================] - 0s 2ms/step - loss: 0.3589 - accuracy: 0.8533\n",
            "Epoch 20/100\n",
            "229/229 [==============================] - 0s 2ms/step - loss: 0.3534 - accuracy: 0.8580\n",
            "Epoch 21/100\n",
            "229/229 [==============================] - 0s 2ms/step - loss: 0.3496 - accuracy: 0.8591\n",
            "Epoch 22/100\n",
            "229/229 [==============================] - 0s 2ms/step - loss: 0.3473 - accuracy: 0.8589\n",
            "Epoch 23/100\n",
            "229/229 [==============================] - 0s 2ms/step - loss: 0.3460 - accuracy: 0.8596\n",
            "Epoch 24/100\n",
            "229/229 [==============================] - 0s 2ms/step - loss: 0.3448 - accuracy: 0.8595\n",
            "Epoch 25/100\n",
            "229/229 [==============================] - 0s 2ms/step - loss: 0.3440 - accuracy: 0.8594\n",
            "Epoch 26/100\n",
            "229/229 [==============================] - 0s 2ms/step - loss: 0.3435 - accuracy: 0.8595\n",
            "Epoch 27/100\n",
            "229/229 [==============================] - 0s 1ms/step - loss: 0.3430 - accuracy: 0.8601\n",
            "Epoch 28/100\n",
            "229/229 [==============================] - 0s 1ms/step - loss: 0.3424 - accuracy: 0.8610\n",
            "Epoch 29/100\n",
            "229/229 [==============================] - 0s 1ms/step - loss: 0.3419 - accuracy: 0.8596\n",
            "Epoch 30/100\n",
            "229/229 [==============================] - 0s 1ms/step - loss: 0.3413 - accuracy: 0.8606\n",
            "Epoch 31/100\n",
            "229/229 [==============================] - 0s 1ms/step - loss: 0.3411 - accuracy: 0.8597\n",
            "Epoch 32/100\n",
            "229/229 [==============================] - 0s 1ms/step - loss: 0.3407 - accuracy: 0.8604\n",
            "Epoch 33/100\n",
            "229/229 [==============================] - 0s 1ms/step - loss: 0.3402 - accuracy: 0.8608\n",
            "Epoch 34/100\n",
            "229/229 [==============================] - 0s 1ms/step - loss: 0.3400 - accuracy: 0.8606\n",
            "Epoch 35/100\n",
            "229/229 [==============================] - 0s 1ms/step - loss: 0.3395 - accuracy: 0.8612\n",
            "Epoch 36/100\n",
            "229/229 [==============================] - 0s 1ms/step - loss: 0.3392 - accuracy: 0.8615\n",
            "Epoch 37/100\n",
            "229/229 [==============================] - 0s 1ms/step - loss: 0.3391 - accuracy: 0.8600\n",
            "Epoch 38/100\n",
            "229/229 [==============================] - 0s 1ms/step - loss: 0.3387 - accuracy: 0.8609\n",
            "Epoch 39/100\n",
            "229/229 [==============================] - 0s 1ms/step - loss: 0.3387 - accuracy: 0.8612\n",
            "Epoch 40/100\n",
            "229/229 [==============================] - 0s 1ms/step - loss: 0.3387 - accuracy: 0.8611\n",
            "Epoch 41/100\n",
            "229/229 [==============================] - 0s 1ms/step - loss: 0.3382 - accuracy: 0.8600\n",
            "Epoch 42/100\n",
            "229/229 [==============================] - 0s 1ms/step - loss: 0.3380 - accuracy: 0.8605\n",
            "Epoch 43/100\n",
            "229/229 [==============================] - 0s 1ms/step - loss: 0.3377 - accuracy: 0.8610\n",
            "Epoch 44/100\n",
            "229/229 [==============================] - 0s 1ms/step - loss: 0.3372 - accuracy: 0.8620\n",
            "Epoch 45/100\n",
            "229/229 [==============================] - 0s 1ms/step - loss: 0.3372 - accuracy: 0.8600\n",
            "Epoch 46/100\n",
            "229/229 [==============================] - 0s 1ms/step - loss: 0.3366 - accuracy: 0.8612\n",
            "Epoch 47/100\n",
            "229/229 [==============================] - 0s 1ms/step - loss: 0.3364 - accuracy: 0.8601\n",
            "Epoch 48/100\n",
            "229/229 [==============================] - 0s 1ms/step - loss: 0.3366 - accuracy: 0.8606\n",
            "Epoch 49/100\n",
            "229/229 [==============================] - 0s 1ms/step - loss: 0.3359 - accuracy: 0.8616\n",
            "Epoch 50/100\n",
            "229/229 [==============================] - 0s 1ms/step - loss: 0.3362 - accuracy: 0.8602\n",
            "Epoch 51/100\n",
            "229/229 [==============================] - 0s 1ms/step - loss: 0.3358 - accuracy: 0.8621\n",
            "Epoch 52/100\n",
            "229/229 [==============================] - 0s 1ms/step - loss: 0.3360 - accuracy: 0.8599\n",
            "Epoch 53/100\n",
            "229/229 [==============================] - 0s 1ms/step - loss: 0.3354 - accuracy: 0.8605\n",
            "Epoch 54/100\n",
            "229/229 [==============================] - 0s 979us/step - loss: 0.3357 - accuracy: 0.8604\n",
            "Epoch 55/100\n",
            "229/229 [==============================] - 0s 1ms/step - loss: 0.3346 - accuracy: 0.8600\n",
            "Epoch 56/100\n",
            "229/229 [==============================] - 0s 1ms/step - loss: 0.3353 - accuracy: 0.8586\n",
            "Epoch 57/100\n",
            "229/229 [==============================] - 0s 1ms/step - loss: 0.3343 - accuracy: 0.8618\n",
            "Epoch 58/100\n",
            "229/229 [==============================] - 0s 1ms/step - loss: 0.3347 - accuracy: 0.8614\n",
            "Epoch 59/100\n",
            "229/229 [==============================] - 0s 1ms/step - loss: 0.3343 - accuracy: 0.8600\n",
            "Epoch 60/100\n",
            "229/229 [==============================] - 0s 1ms/step - loss: 0.3344 - accuracy: 0.8611\n",
            "Epoch 61/100\n",
            "229/229 [==============================] - 0s 1ms/step - loss: 0.3343 - accuracy: 0.8618\n",
            "Epoch 62/100\n",
            "229/229 [==============================] - 0s 1ms/step - loss: 0.3340 - accuracy: 0.8625\n",
            "Epoch 63/100\n",
            "229/229 [==============================] - 0s 1ms/step - loss: 0.3335 - accuracy: 0.8611\n",
            "Epoch 64/100\n",
            "229/229 [==============================] - 0s 1ms/step - loss: 0.3336 - accuracy: 0.8611\n",
            "Epoch 65/100\n",
            "229/229 [==============================] - 0s 1ms/step - loss: 0.3335 - accuracy: 0.8629\n",
            "Epoch 66/100\n",
            "229/229 [==============================] - 0s 1ms/step - loss: 0.3335 - accuracy: 0.8609\n",
            "Epoch 67/100\n",
            "229/229 [==============================] - 0s 1ms/step - loss: 0.3333 - accuracy: 0.8618\n",
            "Epoch 68/100\n",
            "229/229 [==============================] - 0s 1ms/step - loss: 0.3331 - accuracy: 0.8621\n",
            "Epoch 69/100\n",
            "229/229 [==============================] - 0s 1ms/step - loss: 0.3328 - accuracy: 0.8618\n",
            "Epoch 70/100\n",
            "229/229 [==============================] - 0s 1ms/step - loss: 0.3331 - accuracy: 0.8615\n",
            "Epoch 71/100\n",
            "229/229 [==============================] - 0s 1ms/step - loss: 0.3329 - accuracy: 0.8633\n",
            "Epoch 72/100\n",
            "229/229 [==============================] - 0s 1ms/step - loss: 0.3327 - accuracy: 0.8615\n",
            "Epoch 73/100\n",
            "229/229 [==============================] - 0s 1ms/step - loss: 0.3325 - accuracy: 0.8620\n",
            "Epoch 74/100\n",
            "229/229 [==============================] - 0s 1ms/step - loss: 0.3326 - accuracy: 0.8633\n",
            "Epoch 75/100\n",
            "229/229 [==============================] - 0s 1ms/step - loss: 0.3326 - accuracy: 0.8615\n",
            "Epoch 76/100\n",
            "229/229 [==============================] - 0s 1ms/step - loss: 0.3323 - accuracy: 0.8626\n",
            "Epoch 77/100\n",
            "229/229 [==============================] - 0s 1ms/step - loss: 0.3322 - accuracy: 0.8619\n",
            "Epoch 78/100\n",
            "229/229 [==============================] - 0s 1ms/step - loss: 0.3316 - accuracy: 0.8652\n",
            "Epoch 79/100\n",
            "229/229 [==============================] - 0s 1ms/step - loss: 0.3321 - accuracy: 0.8630\n",
            "Epoch 80/100\n",
            "229/229 [==============================] - 0s 1ms/step - loss: 0.3319 - accuracy: 0.8611\n",
            "Epoch 81/100\n",
            "229/229 [==============================] - 0s 1ms/step - loss: 0.3317 - accuracy: 0.8619\n",
            "Epoch 82/100\n",
            "229/229 [==============================] - 0s 1ms/step - loss: 0.3317 - accuracy: 0.8612\n",
            "Epoch 83/100\n",
            "229/229 [==============================] - 0s 1ms/step - loss: 0.3313 - accuracy: 0.8633\n",
            "Epoch 84/100\n",
            "229/229 [==============================] - 0s 1ms/step - loss: 0.3315 - accuracy: 0.8634\n",
            "Epoch 85/100\n",
            "229/229 [==============================] - 0s 1ms/step - loss: 0.3317 - accuracy: 0.8620\n",
            "Epoch 86/100\n",
            "229/229 [==============================] - 0s 1ms/step - loss: 0.3316 - accuracy: 0.8633\n",
            "Epoch 87/100\n",
            "229/229 [==============================] - 0s 1ms/step - loss: 0.3310 - accuracy: 0.8626\n",
            "Epoch 88/100\n",
            "229/229 [==============================] - 0s 1ms/step - loss: 0.3312 - accuracy: 0.8622\n",
            "Epoch 89/100\n",
            "229/229 [==============================] - 0s 1ms/step - loss: 0.3311 - accuracy: 0.8615\n",
            "Epoch 90/100\n",
            "229/229 [==============================] - 0s 1ms/step - loss: 0.3306 - accuracy: 0.8635\n",
            "Epoch 91/100\n",
            "229/229 [==============================] - 0s 1ms/step - loss: 0.3310 - accuracy: 0.8629\n",
            "Epoch 92/100\n",
            "229/229 [==============================] - 0s 1ms/step - loss: 0.3302 - accuracy: 0.8624\n",
            "Epoch 93/100\n",
            "229/229 [==============================] - 0s 1ms/step - loss: 0.3308 - accuracy: 0.8637\n",
            "Epoch 94/100\n",
            "229/229 [==============================] - 0s 1ms/step - loss: 0.3307 - accuracy: 0.8624\n",
            "Epoch 95/100\n",
            "229/229 [==============================] - 0s 1ms/step - loss: 0.3306 - accuracy: 0.8636\n",
            "Epoch 96/100\n",
            "229/229 [==============================] - 0s 1ms/step - loss: 0.3306 - accuracy: 0.8633\n",
            "Epoch 97/100\n",
            "229/229 [==============================] - 0s 1ms/step - loss: 0.3301 - accuracy: 0.8636\n",
            "Epoch 98/100\n",
            "229/229 [==============================] - 0s 1ms/step - loss: 0.3302 - accuracy: 0.8615\n",
            "Epoch 99/100\n",
            "229/229 [==============================] - 0s 1ms/step - loss: 0.3299 - accuracy: 0.8634\n",
            "Epoch 100/100\n",
            "229/229 [==============================] - 0s 1ms/step - loss: 0.3300 - accuracy: 0.8627\n"
          ],
          "name": "stdout"
        },
        {
          "output_type": "execute_result",
          "data": {
            "text/plain": [
              "<tensorflow.python.keras.callbacks.History at 0x7f35a0016550>"
            ]
          },
          "metadata": {
            "tags": []
          },
          "execution_count": 24
        }
      ]
    },
    {
      "cell_type": "code",
      "metadata": {
        "id": "anCKzHAnYGG6",
        "colab_type": "code",
        "colab": {}
      },
      "source": [
        "output=ann.predict(sc.transform([[1,0,0,600,1,40,3,60000,2,1,1,50000]]))>0.5"
      ],
      "execution_count": null,
      "outputs": []
    },
    {
      "cell_type": "code",
      "metadata": {
        "id": "qVXUi_ufbfks",
        "colab_type": "code",
        "colab": {
          "base_uri": "https://localhost:8080/",
          "height": 34
        },
        "outputId": "a634a174-12ea-4a0c-d579-66abe57e49a4"
      },
      "source": [
        "print(output)"
      ],
      "execution_count": null,
      "outputs": [
        {
          "output_type": "stream",
          "text": [
            "[[False]]\n"
          ],
          "name": "stdout"
        }
      ]
    },
    {
      "cell_type": "code",
      "metadata": {
        "id": "XqVsT9EQbkr8",
        "colab_type": "code",
        "colab": {
          "base_uri": "https://localhost:8080/",
          "height": 136
        },
        "outputId": "9e5f772f-323d-42c5-ec56-c9354e683717"
      },
      "source": [
        "y_pred=ann.predict(X_test)\n",
        "y_pred=(y_pred>0.5)\n",
        "print(np.concatenate((y_pred.reshape(len(y_pred),1),y_test.reshape(len(y_test),1)),1))"
      ],
      "execution_count": null,
      "outputs": [
        {
          "output_type": "stream",
          "text": [
            "[[0 0]\n",
            " [0 1]\n",
            " [0 0]\n",
            " ...\n",
            " [0 0]\n",
            " [0 0]\n",
            " [0 0]]\n"
          ],
          "name": "stdout"
        }
      ]
    },
    {
      "cell_type": "markdown",
      "metadata": {
        "id": "YWWMALiZoxnS",
        "colab_type": "text"
      },
      "source": [
        "**Validating the model by Using different metrics**"
      ]
    },
    {
      "cell_type": "code",
      "metadata": {
        "id": "cnGymIMPc8xw",
        "colab_type": "code",
        "colab": {
          "base_uri": "https://localhost:8080/",
          "height": 51
        },
        "outputId": "3be92a37-9378-4c0a-f8d6-aca17e685cdc"
      },
      "source": [
        "from sklearn.metrics import confusion_matrix,accuracy_score\n",
        "cm=confusion_matrix(y_test,y_pred)\n",
        "cm\n"
      ],
      "execution_count": null,
      "outputs": [
        {
          "output_type": "execute_result",
          "data": {
            "text/plain": [
              "array([[1535,   60],\n",
              "       [ 218,  187]])"
            ]
          },
          "metadata": {
            "tags": []
          },
          "execution_count": 42
        }
      ]
    },
    {
      "cell_type": "code",
      "metadata": {
        "id": "4RmaeTK1eXtY",
        "colab_type": "code",
        "colab": {
          "base_uri": "https://localhost:8080/",
          "height": 34
        },
        "outputId": "38901516-ec02-4e97-c52e-52530b2c4952"
      },
      "source": [
        "accuracy_score(y_test,y_pred)"
      ],
      "execution_count": null,
      "outputs": [
        {
          "output_type": "execute_result",
          "data": {
            "text/plain": [
              "0.861"
            ]
          },
          "metadata": {
            "tags": []
          },
          "execution_count": 43
        }
      ]
    },
    {
      "cell_type": "code",
      "metadata": {
        "id": "P-W5Acezeb-I",
        "colab_type": "code",
        "colab": {}
      },
      "source": [
        ""
      ],
      "execution_count": null,
      "outputs": []
    }
  ]
}